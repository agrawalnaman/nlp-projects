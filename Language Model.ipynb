class Multiclass_LR:
#     def train(tag):
#         for sent in self.sents:
#             for word, tag in sent:
#                 if sent[0] == [word][tag]
    def get_feature_set():
        self.puncs = {'!', "'", "''", '(', ')', ',', '--', '.', ':', ';', '?', '[', ']', '``'}
        feature_extractors = {
            'is_upper_first_letter': lambda sent, i: sent[i][0].isupper(),
            'is_upper_all': lambda sent, i: sent[i].isupper(),
            'is_hyphenated': lambda sent, i: '-' in sent[i],
            'is_punctuation': lambda sent, i: sent[i] in self.puncs,
            
        }

    def __init__(self, tagged_sents):
        self.sents = tagged_sents
        self.tags = list(set([tag for word, tag in self.sents]))
        
        pass