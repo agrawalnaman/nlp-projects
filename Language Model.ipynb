{
 "cells": [
  {
   "cell_type": "markdown",
   "metadata": {},
   "source": [
    "# Spell Checker and Grammaticality Test using Language Modelling"
   ]
  },
  {
   "cell_type": "markdown",
   "metadata": {},
   "source": [
    "## Imports and Initializations\n",
    "\n",
    "Firstly, we will import packages like `os`, `re`, `matplotlib.pyplot`, etc and initialize the `PrettyPrinter` for printing data in an organized manner."
   ]
  },
  {
   "cell_type": "code",
   "execution_count": 1,
   "metadata": {},
   "outputs": [],
   "source": [
    "import os, re, pprint\n",
    "import matplotlib.pyplot as plt\n",
    "import numpy as np\n",
    "\n",
    "from collections import Counter\n",
    "\n",
    "pp = pprint.PrettyPrinter(indent=2)\n",
    "\n",
    "CORPUS_PATH = \"/Users/sounak/Documents/clg/nlp/nlp-projects/data/Gutenberg/txt\""
   ]
  },
  {
   "cell_type": "markdown",
   "metadata": {},
   "source": [
    "## Tokenizer\n",
    "\n",
    "Now we write our tokenizer class, which will have methods to handle sentence as well as word tokenizing."
   ]
  },
  {
   "cell_type": "code",
   "execution_count": 2,
   "metadata": {},
   "outputs": [],
   "source": [
    "class Tokenizer:\n",
    "    def postproc_word(self, words):\n",
    "        new_words = []\n",
    "        for word in words:\n",
    "            new_words.extend(re.findall(r\"[\\w']+|[\\\".,!?;]\", word))\n",
    "        return new_words\n",
    "    \n",
    "    def into_words(self, text, punctuation=False):\n",
    "        if not punctuation:\n",
    "            words = [_.lower() for _ in re.split(r\"[^a-zA-ZÀ-ÿ0-9']+\", text)]\n",
    "            return list(filter(('').__ne__, words))\n",
    "        else:\n",
    "            words = [_ for _ in re.split(r\"[^a-zA-ZÀ-ÿ0-9,.?!/-:;\\\"']+\", text)]\n",
    "            return self.postproc_word(words)\n",
    "\n",
    "    def into_sentences(self, text):\n",
    "        text = \" \" + text + \"  \"\n",
    "        text = text.replace(\"\\n\",\" \")\n",
    "        text = re.sub(self.prefixes,\"\\\\1<prd>\",text)\n",
    "        text = re.sub(self.websites,\"<prd>\\\\1\",text)\n",
    "        if \"Ph.D\" in text: text = text.replace(\"Ph.D.\",\"Ph<prd>D<prd>\")\n",
    "        text = re.sub(\"\\s\" + self.caps + \"[.] \",\" \\\\1<prd> \",text)\n",
    "        text = re.sub(self.acronyms+\" \"+self.starters,\"\\\\1<stop> \\\\2\",text)\n",
    "        text = re.sub(self.caps + \"[.]\" + self.caps + \"[.]\" + self.caps + \"[.]\",\"\\\\1<prd>\\\\2<prd>\\\\3<prd>\",text)\n",
    "        text = re.sub(self.caps + \"[.]\" + self.caps + \"[.]\",\"\\\\1<prd>\\\\2<prd>\",text)\n",
    "        text = re.sub(\" \"+self.suffixes+\"[.] \"+self.starters,\" \\\\1<stop> \\\\2\",text)\n",
    "        text = re.sub(\" \"+self.suffixes+\"[.]\",\" \\\\1<prd>\",text)\n",
    "        text = re.sub(\" \" + self.caps + \"[.]\",\" \\\\1<prd>\",text)\n",
    "        if \"”\" in text: text = text.replace(\".”\",\"”.\")\n",
    "        if \"\\\"\" in text: text = text.replace(\".\\\"\",\"\\\".\")\n",
    "        if \"!\" in text: text = text.replace(\"!\\\"\",\"\\\"!\")\n",
    "        if \"?\" in text: text = text.replace(\"?\\\"\",\"\\\"?\")\n",
    "        text = text.replace(\".\",\".<stop>\")\n",
    "        text = text.replace(\"?\",\"?<stop>\")\n",
    "        text = text.replace(\"!\",\"!<stop>\")\n",
    "        text = text.replace(\"<prd>\",\".\")\n",
    "        sentences = text.split(\"<stop>\")\n",
    "        sentences = sentences[:-1]\n",
    "        sentences = [s.strip() for s in sentences]\n",
    "        return sentences\n",
    "            \n",
    "    def get_words_counter(self):\n",
    "        return self.words\n",
    "    \n",
    "    def get_sentences(self):\n",
    "        return self.sentences\n",
    "    \n",
    "    def __init__(self, texts):\n",
    "        self.caps = \"([A-Z])\"\n",
    "        self.prefixes = \"(Mr|St|Mrs|Ms|Dr)[.]\"\n",
    "        self.suffixes = \"(Inc|Ltd|Jr|Sr|Co)\"\n",
    "        self.starters = \"(Mr|Mrs|Ms|Dr|He\\s|She\\s|It\\s|They\\s|Their\\s|Our\\s|We\\s|But\\s|However\\s|That\\s|This\\s|Wherever)\"\n",
    "        self.acronyms = \"([A-Z][.][A-Z][.](?:[A-Z][.])?)\"\n",
    "        self.websites = \"[.](com|net|org|io|gov)\"\n",
    "        \n",
    "        self.words = Counter([])\n",
    "        self.sentences = []\n",
    "        for text in texts:\n",
    "            self.words.update(self.into_words(text))\n",
    "            for sentence in self.into_sentences(text):\n",
    "                self.sentences.append(self.into_words(sentence))"
   ]
  },
  {
   "cell_type": "markdown",
   "metadata": {},
   "source": [
    "## Language Modelling\n",
    "\n",
    "After tokenizing we will need to write a class which will handle the language modelling using `n-grams`. This class will also have methods which will give a score to a particular sequence, thus helping us in our final tasks of spell checker and grammaticality test."
   ]
  },
  {
   "cell_type": "code",
   "execution_count": 3,
   "metadata": {},
   "outputs": [],
   "source": [
    "class LM:\n",
    "    def N(self, c, l):\n",
    "        try:\n",
    "            return self.N_values[(c, l)]\n",
    "        except KeyError:\n",
    "            self.N_values[(c, l)] = len([v for (k, v) in self.get_model(l).items() if v == c])\n",
    "            return self.N_values[(c, l)]\n",
    "    \n",
    "    def get_model(self, n):\n",
    "        try:\n",
    "            return self.models[n]\n",
    "        except KeyError:\n",
    "            self.models[n] = self.language_model(self.groups, n)\n",
    "            return self.models[n]\n",
    "\n",
    "    def get_count(self, token):\n",
    "        model = self.get_model(len(token))\n",
    "        return model[token] if token in model.keys() else 0 \n",
    "\n",
    "    def get_count_gt(self, token):\n",
    "        try:\n",
    "            return self.gt_counts[token]\n",
    "        except KeyError:\n",
    "            l = len(token)\n",
    "            model = self.get_model(l)\n",
    "            if token not in model.keys():\n",
    "                self.gt_counts[token] = self.N(1, l) / sum(model.values())\n",
    "                return self.gt_counts[token]\n",
    "            else:\n",
    "                c = model[token]\n",
    "                max_freq = model.most_common(1)[0][1]\n",
    "                c_ = c + 1\n",
    "                while c_ < max_freq:\n",
    "                    if self.N(c_, l) != 0:\n",
    "                        if self.N(c_, l) == self.N(c, l):\n",
    "                            self.gt_counts[token] = c\n",
    "                            return self.gt_counts[token]\n",
    "                        self.gt_counts[token] = c_ * self.N(c_, l) / self.N(c, l)\n",
    "                        return self.gt_counts[token]\n",
    "                    c_ += 1\n",
    "                self.gt_counts[token] = c\n",
    "                return self.gt_counts[token]\n",
    "                \n",
    "    def get_prob_gt(self, token):\n",
    "        try:\n",
    "            return self.gt_probs[token]\n",
    "        except KeyError:\n",
    "            l = len(token)\n",
    "            self.gt_probs[token] = (self.get_count_gt(token) + 1) / (self.get_count_gt(token[:-1]) + len(self.get_model(l-1).keys()))\n",
    "            return self.gt_probs[token]\n",
    "\n",
    "    def get_prob_laplace(self, token, factor=1):\n",
    "        try:\n",
    "            return self.laplace_probs[(token, factor)]\n",
    "        except KeyError:\n",
    "            l = len(token)\n",
    "            token = tuple(token)\n",
    "            self.laplace_probs[(token, factor)] = (self.get_count(token) + factor) / (self.get_count(token[:-1]) + len(self.get_model(l-1).keys()))\n",
    "            return self.laplace_probs[(token, factor)]\n",
    "        \n",
    "    def get_ngrams(self, group, n):\n",
    "        ngrams = []\n",
    "        group = (' ',) + tuple(group) + (' ',)\n",
    "        for i in range(len(group)-n+1):\n",
    "            ngrams.append(group[i:i+n])\n",
    "        return ngrams\n",
    "\n",
    "    def predict_next(self, sequence, n):\n",
    "        prob = {}\n",
    "        sequence = tuple(sequence)\n",
    "        length = len(sequence)\n",
    "        alphabet = self.models[1].keys()\n",
    "        for letter in alphabet:\n",
    "            gram = sequence + letter\n",
    "            prob[gram] = self.get_score(gram, n)\n",
    "        return sorted(prob.items(), key=lambda item: item[1], reverse=True)\n",
    "\n",
    "    def get_score(self, group, n, log=True):\n",
    "        grams = self.get_ngrams(group, n)\n",
    "        probs = []\n",
    "        for gram in grams:\n",
    "            probs.append(self.get_prob_gt(gram))\n",
    "        if log:\n",
    "            return np.log(probs).sum()\n",
    "        return np.array(probs).prod()\n",
    "    \n",
    "    def S(self, token, factor=0.4):\n",
    "        if len(token) == 1:\n",
    "            return self.get_count(token) / sum(self.get_model(1).values())\n",
    "        if self.get_count(token) > 0:\n",
    "            return self.get_count(token) / self.get_count(token[:-1])\n",
    "        return factor * self.S(token[1:])\n",
    "\n",
    "    def get_score_backoff(self, group, n, factor=0.4, log=True):\n",
    "        grams = self.get_ngrams(group, n)\n",
    "        probs = []\n",
    "        for gram in grams:\n",
    "            probs.append(self.S(gram))\n",
    "        if log:\n",
    "            return np.log(probs).sum()\n",
    "        return np.array(probs).prod()\n",
    "\n",
    "    def language_model(self, groups, n):\n",
    "        ngrams = Counter([])\n",
    "        for group in groups:\n",
    "            ngrams.update(self.get_ngrams(group, n))\n",
    "        return ngrams\n",
    "\n",
    "    def __init__(self, groups):\n",
    "        self.groups = groups\n",
    "        self.N_values = {}\n",
    "        self.gt_counts = {}\n",
    "        self.gt_probs = {}\n",
    "        self.laplace_probs = {}\n",
    "        self.models = {}\n",
    "        for n in range(1, 5):\n",
    "            self.models[n] = self.language_model(self.groups, n)"
   ]
  },
  {
   "cell_type": "markdown",
   "metadata": {},
   "source": [
    "## Tokenizing the corpus\n",
    "\n",
    "Now that we have written the code for both tokenizing and language modelling, we will tokenize the [Gutenberg Corpus](https://drive.google.com/file/d/0B2Mzhc7popBga2RkcWZNcjlRTGM/edit) into sentences and words."
   ]
  },
  {
   "cell_type": "code",
   "execution_count": 4,
   "metadata": {},
   "outputs": [],
   "source": [
    "files = os.listdir(CORPUS_PATH)\n",
    "files.remove('Henry David Thoreau___A Week on the Concord and Merrimack Rivers.txt')\n",
    "files = files[:20]\n",
    "texts = []\n",
    "\n",
    "for file in files:\n",
    "    file = os.path.join(CORPUS_PATH, file)\n",
    "    f = open(file, 'r')\n",
    "    texts.append(f.read())\n",
    "    f.close()\n",
    "    \n",
    "t = Tokenizer(texts)\n",
    "words = t.get_words_counter()\n",
    "sentences = t.get_sentences()"
   ]
  },
  {
   "cell_type": "markdown",
   "metadata": {},
   "source": [
    "## Zipf's Law\n",
    "\n",
    "Now, we are going to verify the Zipf's Law by plotting the frequency of the first 1000 words."
   ]
  },
  {
   "cell_type": "code",
   "execution_count": 5,
   "metadata": {},
   "outputs": [
    {
     "name": "stdout",
     "output_type": "stream",
     "text": [
      "[ ('the', 46909),\n",
      "  ('and', 27225),\n",
      "  ('of', 25839),\n",
      "  ('to', 25382),\n",
      "  ('a', 18189),\n",
      "  ('in', 13176),\n",
      "  ('i', 13159),\n",
      "  ('that', 11945),\n",
      "  ('it', 11355),\n",
      "  ('was', 10275)]\n"
     ]
    },
    {
     "data": {
      "image/png": "[encoded data removed]",
      "text/plain": [
       "<Figure size 432x288 with 1 Axes>"
      ]
     },
     "metadata": {},
     "output_type": "display_data"
    }
   ],
   "source": [
    "pp.pprint(words.most_common(10))\n",
    "\n",
    "y = [b for a, b in words.most_common(1000)]\n",
    "x = range(len(y))\n",
    "\n",
    "plt.plot(x, y)\n",
    "plt.title('Frequency of words')\n",
    "plt.show()"
   ]
  },
  {
   "cell_type": "markdown",
   "metadata": {},
   "source": [
    "## Language Models for Words\n",
    "\n",
    "Using `LM` and the built-in methods we will build the language models for the words that we just extracted from the corpus."
   ]
  },
  {
   "cell_type": "code",
   "execution_count": 6,
   "metadata": {},
   "outputs": [
    {
     "name": "stdout",
     "output_type": "stream",
     "text": [
      "[ (('e', 'd', ' '), 2757),\n",
      "  (('i', 'n', 'g'), 2404),\n",
      "  (('n', 'g', ' '), 2081),\n",
      "  (('e', 's', ' '), 1441),\n",
      "  (('l', 'y', ' '), 1128),\n",
      "  ((' ', 'c', 'o'), 1039),\n",
      "  (('i', 'o', 'n'), 967),\n",
      "  (('e', 'r', ' '), 901),\n",
      "  (('e', 'n', 't'), 860),\n",
      "  ((' ', 'r', 'e'), 835)]\n",
      "[ (('a', 'p', 'm'), 1),\n",
      "  (('s', 'r', 's'), 1),\n",
      "  (('a', 'u', 'a'), 1),\n",
      "  (('o', 'b', 'n'), 1),\n",
      "  ((' ', 'i', 'a'), 1),\n",
      "  (('d', 'j', 'e'), 1),\n",
      "  (('m', 'm', 's'), 1),\n",
      "  (('d', 'é', 'e'), 1),\n",
      "  (('n', 'd', 'é'), 1),\n",
      "  ((\"'\", 'e', 'd'), 1)]\n"
     ]
    },
    {
     "data": {
      "image/png": "[encoded data removed]",
      "text/plain": [
       "<Figure size 432x288 with 1 Axes>"
      ]
     },
     "metadata": {},
     "output_type": "display_data"
    },
    {
     "data": {
      "image/png": "[encoded data removed]",
      "text/plain": [
       "<Figure size 432x288 with 1 Axes>"
      ]
     },
     "metadata": {},
     "output_type": "display_data"
    }
   ],
   "source": [
    "words_lm = LM(words.keys())\n",
    "\n",
    "pp.pprint(words_lm.get_model(3).most_common(10))\n",
    "pp.pprint(words_lm.get_model(3).most_common()[:-11:-1])\n",
    "\n",
    "y1 = np.array([b for a, b in words_lm.get_model(3).most_common(1000)])\n",
    "y2 = np.log(np.log(y1))\n",
    "x = np.arange(len(y1))\n",
    "plt.plot(x, y1)\n",
    "plt.title('Frequency of 3-grams')\n",
    "plt.show()\n",
    "plt.plot(x, y2)\n",
    "plt.title('log-log frequency of 3-grams')\n",
    "plt.show()"
   ]
  },
  {
   "cell_type": "markdown",
   "metadata": {},
   "source": [
    "### Completing (n-1)-grams to predict the next gram"
   ]
  },
  {
   "cell_type": "code",
   "execution_count": 7,
   "metadata": {},
   "outputs": [
    {
     "name": "stdout",
     "output_type": "stream",
     "text": [
      "[ (('k', 'i', 'l', 'e'), -10.492073509794164),\n",
      "  (('k', 'i', 'l', 'y'), -10.66846541710378),\n",
      "  (('k', 'i', 'l', 'd'), -11.716180656386525),\n",
      "  (('k', 'i', 'l', 'l'), -12.051332340279295),\n",
      "  (('k', 'i', 'l', 's'), -13.246047870730585),\n",
      "  (('k', 'i', 'l', 't'), -13.548614063399304),\n",
      "  (('k', 'i', 'l', 'i'), -14.525418476274815),\n",
      "  (('k', 'i', 'l', 'a'), -14.654780974171725),\n",
      "  (('k', 'i', 'l', 'f'), -15.117023336319287),\n",
      "  (('k', 'i', 'l', 'o'), -15.432543727784408),\n",
      "  (('k', 'i', 'l', 'k'), -16.08508279885199),\n",
      "  (('k', 'i', 'l', 'm'), -16.722896271387853),\n",
      "  (('k', 'i', 'l', ' '), -17.427708258940406),\n",
      "  (('k', 'i', 'l', 'n'), -17.827686182852435),\n",
      "  (('k', 'i', 'l', 'u'), -17.898883170785176),\n",
      "  (('k', 'i', 'l', \"'\"), -18.188137275578303),\n",
      "  (('k', 'i', 'l', 'g'), -18.53839158722276),\n",
      "  (('k', 'i', 'l', 'p'), -18.556748048384556),\n",
      "  (('k', 'i', 'l', 'b'), -18.80422740587226),\n",
      "  (('k', 'i', 'l', 'h'), -18.842134967011248),\n",
      "  (('k', 'i', 'l', 'z'), -19.026876576844575),\n",
      "  (('k', 'i', 'l', 'v'), -19.040860494371955),\n",
      "  (('k', 'i', 'l', 'w'), -19.4624652379377),\n",
      "  (('k', 'i', 'l', 'r'), -19.926292625179066),\n",
      "  (('k', 'i', 'l', 'c'), -19.930801876769827),\n",
      "  (('k', 'i', 'l', 'j'), -20.565776364935708),\n",
      "  (('k', 'i', 'l', 'æ'), -20.565776364935708),\n",
      "  (('k', 'i', 'l', 'q'), -20.565776364935708),\n",
      "  (('k', 'i', 'l', 'x'), -20.565776364935708),\n",
      "  (('k', 'i', 'l', '1'), -20.565776364935708),\n",
      "  (('k', 'i', 'l', '2'), -20.565776364935708),\n",
      "  (('k', 'i', 'l', '3'), -20.565776364935708),\n",
      "  (('k', 'i', 'l', '6'), -20.565776364935708),\n",
      "  (('k', 'i', 'l', '9'), -20.565776364935708),\n",
      "  (('k', 'i', 'l', '5'), -20.565776364935708),\n",
      "  (('k', 'i', 'l', '4'), -20.565776364935708),\n",
      "  (('k', 'i', 'l', '0'), -20.565776364935708),\n",
      "  (('k', 'i', 'l', '8'), -20.565776364935708),\n",
      "  (('k', 'i', 'l', '7'), -20.565776364935708),\n",
      "  (('k', 'i', 'l', 'à'), -20.565776364935708),\n",
      "  (('k', 'i', 'l', 'ñ'), -20.565776364935708),\n",
      "  (('k', 'i', 'l', 'î'), -20.565776364935708),\n",
      "  (('k', 'i', 'l', 'è'), -20.565776364935708),\n",
      "  (('k', 'i', 'l', 'é'), -20.565776364935708),\n",
      "  (('k', 'i', 'l', 'ê'), -20.565776364935708)]\n"
     ]
    },
    {
     "data": {
      "image/png": "[encoded data removed]",
      "text/plain": [
       "<Figure size 432x288 with 1 Axes>"
      ]
     },
     "metadata": {},
     "output_type": "display_data"
    }
   ],
   "source": [
    "predictions = words_lm.predict_next('kil', 3)\n",
    "pp.pprint(predictions)\n",
    "\n",
    "y = [v for k, v in predictions]\n",
    "x = range(len(y))\n",
    "\n",
    "plt.plot(x, y)\n",
    "plt.show()"
   ]
  },
  {
   "cell_type": "markdown",
   "metadata": {},
   "source": [
    "## Language Models for Sentences\n",
    "\n",
    "Using `LM` and the built-in methods we will build the language models for the sentences that we just extracted from the corpus."
   ]
  },
  {
   "cell_type": "code",
   "execution_count": 8,
   "metadata": {},
   "outputs": [
    {
     "name": "stdout",
     "output_type": "stream",
     "text": [
      "[ ((' ', 'it', 'was'), 678),\n",
      "  ((' ', 'it', 'is'), 579),\n",
      "  (('one', 'of', 'the'), 371),\n",
      "  ((' ', 'i', 'have'), 350),\n",
      "  ((' ', 'i', 'am'), 318),\n",
      "  ((' ', 'he', 'was'), 265),\n",
      "  (('as', 'soon', 'as'), 245),\n",
      "  ((' ', 'there', 'is'), 212),\n",
      "  (('it', 'would', 'be'), 204),\n",
      "  ((' ', 'he', 'had'), 200)]\n",
      "[ (('chapman', 'hall', ' '), 1),\n",
      "  (('messrs', 'chapman', 'hall'), 1),\n",
      "  (('of', 'messrs', 'chapman'), 1),\n",
      "  (('permission', 'of', 'messrs'), 1),\n",
      "  (('by', 'permission', 'of'), 1),\n",
      "  ((\"'\", 'by', 'permission'), 1),\n",
      "  (('review', \"'\", 'by'), 1),\n",
      "  ((\"'fortnightly\", 'review', \"'\"), 1),\n",
      "  (('the', \"'fortnightly\", 'review'), 1),\n",
      "  (('from', 'the', \"'fortnightly\"), 1)]\n"
     ]
    },
    {
     "data": {
      "image/png": "[encoded data removed]",
      "text/plain": [
       "<Figure size 432x288 with 1 Axes>"
      ]
     },
     "metadata": {},
     "output_type": "display_data"
    },
    {
     "data": {
      "image/png": "[encoded data removed]",
      "text/plain": [
       "<Figure size 432x288 with 1 Axes>"
      ]
     },
     "metadata": {},
     "output_type": "display_data"
    }
   ],
   "source": [
    "sents_lm = LM(sentences)\n",
    "\n",
    "pp.pprint(sents_lm.get_model(3).most_common(10))\n",
    "pp.pprint(sents_lm.get_model(3).most_common()[:-11:-1])\n",
    "\n",
    "y1 = np.array([b for a, b in sents_lm.get_model(3).most_common(1000)])\n",
    "y2 = np.log(np.log(y1))\n",
    "x = np.arange(len(y1))\n",
    "plt.plot(x, y1)\n",
    "plt.title('Frequency of 3-grams')\n",
    "plt.show()\n",
    "plt.plot(x, y2)\n",
    "plt.title('log-log frequency of 3-grams')\n",
    "plt.show()"
   ]
  },
  {
   "cell_type": "markdown",
   "metadata": {},
   "source": [
    "### Completing (n-1)-grams to predict the next gram"
   ]
  },
  {
   "cell_type": "code",
   "execution_count": null,
   "metadata": {},
   "outputs": [],
   "source": [
    "predictions = sents_lm.predict_next(['i', 'am', 'going'], 3)\n",
    "pp.pprint(predictions)\n",
    "\n",
    "y = [v for k, v in predictions]\n",
    "x = range(len(y))\n",
    "\n",
    "plt.plot(x, y)\n",
    "plt.show()"
   ]
  },
  {
   "cell_type": "markdown",
   "metadata": {},
   "source": [
    "## The function N: frequency of frequencies\n",
    "\n",
    "In Good Turing Smooting we use the probability _(essentially, the frequency)_ of the grams that occur once in the corpus to estimate the probability of new unseen words.\n",
    "\n",
    "So, we define a function `N: c -> f`, which gives the frequency of frequency `c` in the corpus.\n",
    "\n",
    "### Plotting the N function\n",
    "\n",
    "We will be plotting the function N in the domain `(1, max)` where `max` is the frequency of the gram with the maximum frequency."
   ]
  },
  {
   "cell_type": "code",
   "execution_count": null,
   "metadata": {},
   "outputs": [],
   "source": [
    "max_freq = words_lm.get_model(3).most_common(1)[0][1]\n",
    "x = range(1, max_freq + 1)\n",
    "x1 = range(1, 101)\n",
    "x2 = range(101, 151)\n",
    "x3 = range(151, 201)\n",
    "\n",
    "y = [words_lm.N(_, 3) for _ in x]\n",
    "y1 = [words_lm.N(_, 3) for _ in x1]\n",
    "y2 = [words_lm.N(_, 3) for _ in x2]\n",
    "y3 = [words_lm.N(_, 3) for _ in x3]\n",
    "\n",
    "plt.plot(y)\n",
    "plt.show()\n",
    "plt.plot(x1, y1)\n",
    "plt.show()\n",
    "plt.plot(x2, y2)\n",
    "plt.show()\n",
    "plt.plot(x3, y3)\n",
    "plt.show()"
   ]
  },
  {
   "cell_type": "markdown",
   "metadata": {},
   "source": [
    "### Anomalies in the plot\n",
    "\n",
    "As we can see in the plots, the function N looks like an exponential function. As we increase the value of `c`, we get abnormal results because the frequency of some high frequencies can be 0. And as a result of this we can get wrong values of Good Turing smoothed probabilites of grams.\n",
    "\n",
    "As we can see in the following example where the gram `(i, am)` has a count which is __not zero__, but the function `N` returns 0, and thus giving a wrong count of the gram. "
   ]
  },
  {
   "cell_type": "code",
   "execution_count": null,
   "metadata": {},
   "outputs": [],
   "source": [
    "gram = ('i', 'am')\n",
    "c = sents_lm.get_count(gram)\n",
    "pp.pprint(c)\n",
    "pp.pprint(sents_lm.N((c + 1), len(gram)))"
   ]
  },
  {
   "cell_type": "markdown",
   "metadata": {},
   "source": [
    "### How do we solve this?\n",
    "\n",
    "`(c+1)N(c+1)/N(c)` is the term that approximates the count. `N(c)` will never be zero if the token is present in the corpus, but `N(c+1)` can. This is because there might be integers which are not the frequency of any particular ngram in the corpus.\n",
    "\n",
    "What we can do instead is use the term `(c+k)N(c+k)/N(c)` where `c+k` is the next non-zero `c`.\n",
    "\n",
    "Another problem that we will face is for cases where both the ngram and the n-1-gram (the one forming the ngram) are unseen. In this case the probability will be high and thus resulting in a significantly higher score, whereas the grams by themselves occur with a very less frequency. So, we are applying laplace smoothing while calculating the probability of the gram with the _Good-Turing_ estimated counts."
   ]
  },
  {
   "cell_type": "markdown",
   "metadata": {},
   "source": [
    "## Spell Checker\n",
    "\n",
    "We are going upto two depths of editing _(generating a lot of possible corrections)_ and then evaluating the words which have been seen in the corpus on the basis of the score given by the `LM.get_score(group, n)`. There are a few tests that show that it is correcting the wrong spellings with good efficiency."
   ]
  },
  {
   "cell_type": "code",
   "execution_count": null,
   "metadata": {},
   "outputs": [],
   "source": [
    "alphabet = words_lm.get_model(1).keys()\n",
    "\n",
    "def final_spell_score(word, n):\n",
    "    score = words_lm.get_score(word, n)\n",
    "    return score / len(word)\n",
    "\n",
    "def known(words_):\n",
    "    return set(w for w in words_ if w in words.keys())\n",
    "\n",
    "def edits1(word):\n",
    "    splits     = [(word[:i], word[i:])    for i in range(len(word) + 1)]\n",
    "    deletes    = [L + R[1:]               for L, R in splits if R]\n",
    "    transposes = [L + R[1] + R[0] + R[2:] for L, R in splits if len(R)>1]\n",
    "    replaces   = [L + c[0] + R[1:]           for L, R in splits if R for c in alphabet]\n",
    "    inserts    = [L + c[0] + R               for L, R in splits for c in alphabet]\n",
    "    return set(deletes + transposes + replaces + inserts)\n",
    "\n",
    "def edits2(word):\n",
    "    return [e2 for e1 in edits1(word) for e2 in edits1(e1)]\n",
    "\n",
    "def suggestions(word):\n",
    "    return known([word]) or known(edits1(word)) or known(edits2(word)) or [word]\n",
    "    \n",
    "def correction(word, n):\n",
    "    corrected = max(suggestions(word), key=(lambda word : final_spell_score(word, n)))\n",
    "    return corrected, final_spell_score(corrected, n), final_spell_score(word, n)\n",
    "\n",
    "test_words1 = ['chidken', 'unnecesary', 'writef', 'elephnt', 'mashroom']\n",
    "\n",
    "for word in test_words1:\n",
    "    pp.pprint(correction(word, 3))"
   ]
  },
  {
   "cell_type": "markdown",
   "metadata": {},
   "source": [
    "## Grammaticality Test\n",
    "\n",
    "We are scoring the sentences on an approximate scale which assigns _100_ to be the score given by the model to the most common ngram and _0_ to a random wrong sentence. This makes it easier for human evaluation. The tests show that the grammatical sentences are getting a significant higher score than the wrong ones."
   ]
  },
  {
   "cell_type": "code",
   "execution_count": null,
   "metadata": {},
   "outputs": [],
   "source": [
    "test_sents = [\n",
    "    ['i', 'am', 'going', 'home'],\n",
    "    ['i', 'am', 'home', 'going'],\n",
    "    ['i', 'home', 'going', 'am'],\n",
    "    ['it', 'is', 'the', 'most'],\n",
    "    ['most', 'the', 'it', 'is'],\n",
    "    ['the', 'most', 'it', 'is'],\n",
    "    ['he', 'read', 'a', 'book'],\n",
    "    ['he', 'a', 'book', 'read'],\n",
    "    ['i', 'am', 'a', 'boy'],\n",
    "    ['i', 'a', 'boy', 'am']\n",
    "]\n",
    "\n",
    "def compute_score_final(sentence, n):\n",
    "    l = len(sentence)\n",
    "    max_sent = sents_lm.get_model(l).most_common(1)[0][0]\n",
    "    min_sent = ['brick' for i in range(l)]\n",
    "    \n",
    "    max_score = sents_lm.get_score(max_sent, n)\n",
    "    min_score = sents_lm.get_score(min_sent, n)\n",
    "    \n",
    "    score = sents_lm.get_score(sentence, n) + np.abs(min_score)\n",
    "    return score * (100 / (max_score + np.abs(min_score)))\n",
    "\n",
    "for s in test_sents:\n",
    "    pp.pprint((compute_score_final(s, 3)))"
   ]
  }
 ],
 "metadata": {
  "kernelspec": {
   "display_name": "Python 3",
   "language": "python",
   "name": "python3"
  },
  "language_info": {
   "codemirror_mode": {
    "name": "ipython",
    "version": 3
   },
   "file_extension": ".py",
   "mimetype": "text/x-python",
   "name": "python",
   "nbconvert_exporter": "python",
   "pygments_lexer": "ipython3",
   "version": "3.6.5"
  }
 },
 "nbformat": 4,
 "nbformat_minor": 2
}
