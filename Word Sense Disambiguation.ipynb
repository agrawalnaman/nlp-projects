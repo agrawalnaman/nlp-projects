{
 "cells": [
  {
   "cell_type": "markdown",
   "metadata": {},
   "source": [
    "# Word Sense Disambiguation using a Sensegram"
   ]
  },
  {
   "cell_type": "markdown",
   "metadata": {},
   "source": [
    "## Imports and Initializations\n",
    "\n",
    "We need to import `numpy` for working with arrays, and other libs like `os`, `pickle` and `pprint` for other utility functions."
   ]
  },
  {
   "cell_type": "code",
   "execution_count": 1,
   "metadata": {},
   "outputs": [],
   "source": [
    "import os, pprint, pickle\n",
    "import numpy as np\n",
    "\n",
    "pp = pprint.PrettyPrinter(indent=2)"
   ]
  },
  {
   "cell_type": "markdown",
   "metadata": {},
   "source": [
    "## Helper functions"
   ]
  },
  {
   "cell_type": "code",
   "execution_count": 2,
   "metadata": {},
   "outputs": [],
   "source": [
    "def save_obj(obj, name):\n",
    "    if 'obj' not in os.listdir():\n",
    "        os.mkdir('obj')\n",
    "    with open('obj/'+ name + '.pkl', 'wb') as f:\n",
    "        pickle.dump(obj, f, pickle.HIGHEST_PROTOCOL)\n",
    "\n",
    "def load_obj(name):\n",
    "    try:\n",
    "        with open('obj/' + name + '.pkl', 'rb') as f:\n",
    "            return pickle.load(f)\n",
    "    except:\n",
    "        return None"
   ]
  },
  {
   "cell_type": "markdown",
   "metadata": {},
   "source": [
    "## Loading the Sensegram"
   ]
  },
  {
   "cell_type": "code",
   "execution_count": 3,
   "metadata": {},
   "outputs": [
    {
     "name": "stdout",
     "output_type": "stream",
     "text": [
      "sense_vecs have been loaded\n"
     ]
    }
   ],
   "source": [
    "sense_vecs = load_obj('sense_vecs')\n",
    "if not sense_vecs:\n",
    "    SENSEGRAM_PATH = \"/Users/sounak/Documents/clg/nlp/nlp-projects/data/sensegrams_of_wikipedia_cluster\"\n",
    "    f = open(SENSEGRAM_PATH, 'r')\n",
    "    sense_vecs = {}\n",
    "    pos_tags = set()\n",
    "\n",
    "    for line in f.readlines():\n",
    "        t = line.split('\\t')\n",
    "        word, pos = t[0].split('#')\n",
    "        pos_tags.add(pos)\n",
    "        if t[1] == '0':\n",
    "            sense_vecs[(word, pos)] = []\n",
    "        sense_vecs[(word, pos)].append(np.array(eval(t[2])))\n",
    "    f.close()\n",
    "    save_obj(sense_vecs, 'sense_vecs')\n",
    "\n",
    "print('sense_vecs have been loaded')"
   ]
  },
  {
   "cell_type": "markdown",
   "metadata": {},
   "source": [
    "## Loading the Glove Model"
   ]
  },
  {
   "cell_type": "code",
   "execution_count": 4,
   "metadata": {},
   "outputs": [
    {
     "name": "stdout",
     "output_type": "stream",
     "text": [
      "word_vecs have been loaded\n"
     ]
    }
   ],
   "source": [
    "word_vecs = load_obj('word_vecs')\n",
    "if not word_vecs:\n",
    "    GLOVE_PATH = \"/Users/sounak/Documents/clg/nlp/nlp-projects/data/glove.6B.300d.txt\"\n",
    "    f = open(GLOVE_PATH, 'r')\n",
    "    word_vecs = {}\n",
    "    for line in f.readlines():\n",
    "        t = line.split(' ')\n",
    "        word_vecs[t[0]] = np.array([float(_) for _ in t[1:]])\n",
    "    f.close()\n",
    "    save_obj(word_vecs, 'word_vecs')\n",
    "    \n",
    "print('word_vecs have been loaded')"
   ]
  },
  {
   "cell_type": "markdown",
   "metadata": {},
   "source": [
    "## Computing Sense"
   ]
  },
  {
   "cell_type": "code",
   "execution_count": null,
   "metadata": {},
   "outputs": [],
   "source": []
  }
 ],
 "metadata": {
  "kernelspec": {
   "display_name": "Python 3",
   "language": "python",
   "name": "python3"
  },
  "language_info": {
   "codemirror_mode": {
    "name": "ipython",
    "version": 3
   },
   "file_extension": ".py",
   "mimetype": "text/x-python",
   "name": "python",
   "nbconvert_exporter": "python",
   "pygments_lexer": "ipython3",
   "version": "3.6.5"
  }
 },
 "nbformat": 4,
 "nbformat_minor": 2
}
